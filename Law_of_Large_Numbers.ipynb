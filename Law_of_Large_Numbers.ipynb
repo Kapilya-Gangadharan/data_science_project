{
 "cells": [
  {
   "cell_type": "code",
   "execution_count": null,
   "metadata": {},
   "outputs": [],
   "source": [
    "#.\n",
    "\n",
    "# Law of Large Number for N normally distributed numbers with Mean = 0 \n",
    "# & Std = 1\n",
    "\n",
    "# Create a python Script that will count how many of these numbers fall \n",
    "# between -1 and 1 divided by the total quanity of N\n",
    "\n",
    "# You Know that E(X) = 68.2%\n",
    "\n",
    "# Check that Mean(Xn) -> E(X), n=infinity as you can rerun your sript \n",
    "# while increasing N\n"
   ]
  },
  {
   "cell_type": "code",
   "execution_count": 14,
   "metadata": {},
   "outputs": [
    {
     "name": "stdout",
     "output_type": "stream",
     "text": [
      "0.6801\n"
     ]
    }
   ],
   "source": [
    "import numpy as np\n",
    "from numpy.random import randn\n",
    "N = 10000                       #Specify the sample size - 100 to infinity\n",
    "counter = 0                     #Reset Counter\n",
    "for i in randn(N):              #Iterate Over Random Value\n",
    "    if(i >=- 1 and i<=1 ):      #Check where the iterated value falls\n",
    "        counter = counter + 1   #Increase counter if condition is met\n",
    "answer = counter / N            #Calculate hit ratio\n",
    "print(answer)\n",
    "        "
   ]
  },
  {
   "cell_type": "code",
   "execution_count": null,
   "metadata": {},
   "outputs": [],
   "source": []
  },
  {
   "cell_type": "code",
   "execution_count": null,
   "metadata": {},
   "outputs": [],
   "source": []
  }
 ],
 "metadata": {
  "kernelspec": {
   "display_name": "Python 3 (ipykernel)",
   "language": "python",
   "name": "python3"
  },
  "language_info": {
   "codemirror_mode": {
    "name": "ipython",
    "version": 3
   },
   "file_extension": ".py",
   "mimetype": "text/x-python",
   "name": "python",
   "nbconvert_exporter": "python",
   "pygments_lexer": "ipython3",
   "version": "3.8.5"
  }
 },
 "nbformat": 4,
 "nbformat_minor": 4
}
